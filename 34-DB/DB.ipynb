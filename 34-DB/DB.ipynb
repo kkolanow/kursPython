{
 "cells": [
  {
   "cell_type": "code",
   "execution_count": null,
   "metadata": {
    "collapsed": true
   },
   "outputs": [],
   "source": []
  },
  {
   "cell_type": "markdown",
   "source": [
    "visual studio 2015\n",
    "https://docs.microsoft.com/en-us/cpp/windows/latest-supported-vc-redist?view=msvc-170\n",
    "\n",
    "Download python driver\n",
    "https://dev.mysql.com/downloads/connector/python/\n",
    "\n",
    "\\connect admin@database-2.c9cuny3xk7pk.eu-west-1.rds.amazonaws.com\n",
    "\n",
    "CREATE USER 'user'@'database-2.c9cuny3xk7pk.eu-west-1.rds.amazonaws.com' IDENTIFIED BY 'password';\n",
    "\n",
    "CREATE USER 'user'@ IDENTIFIED BY 'password';\n",
    "\n",
    "\n",
    "GRANT CREATE, ALTER, DROP, INSERT, UPDATE, DELETE, SELECT, REFERENCES, RELOAD  ON *.* TO 'user'@'database-2.c9cuny3xk7pk.eu-west-1.rds.amazonaws.com' WITH GRANT OPTION;\n",
    "\n",
    " GRANT CREATE, ALTER, DROP, INSERT, UPDATE, DELETE, SELECT, REFERENCES, RELOAD  ON *.* TO 'user'@ WITH GRANT OPTION;\n",
    "\n",
    "DROP USER 'user'@'database-2.c9cuny3xk7pk.eu-west-1.rds.amazonaws.com';\n",
    "\n"
   ],
   "metadata": {
    "collapsed": false
   }
  },
  {
   "cell_type": "code",
   "execution_count": null,
   "outputs": [],
   "source": [
    "create table log (\n",
    " id int auto_increment primary key,\n",
    " ts timestamp default current_timestamp,\n",
    " phrase varchar(128) not null,\n",
    " letters varchar(32) not null,\n",
    " ip varchar(16) not null,\n",
    " browser_string varchar(256) not null,\n",
    " results varchar(64) not null );\n"
   ],
   "metadata": {
    "collapsed": false,
    "pycharm": {
     "name": "#%%\n"
    }
   }
  },
  {
   "cell_type": "markdown",
   "source": [
    "\\use vsearchlogDB\n",
    "\n",
    " create table log (                   id int auto_increment primary key,  ts timestamp default current_timestamp,  phrase varchar(128) not null,       letters varchar(32) not null,       ip varchar(16) not null,            browser_string varchar(256) not null,  results varchar(64) not null );\n",
    "Query OK, 0 rows affected (0.0938 sec)"
   ],
   "metadata": {
    "collapsed": false
   }
  }
 ],
 "metadata": {
  "kernelspec": {
   "display_name": "Python 3",
   "language": "python",
   "name": "python3"
  },
  "language_info": {
   "codemirror_mode": {
    "name": "ipython",
    "version": 2
   },
   "file_extension": ".py",
   "mimetype": "text/x-python",
   "name": "python",
   "nbconvert_exporter": "python",
   "pygments_lexer": "ipython2",
   "version": "2.7.6"
  }
 },
 "nbformat": 4,
 "nbformat_minor": 0
}