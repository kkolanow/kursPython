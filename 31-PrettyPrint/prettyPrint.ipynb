{
 "cells": [
  {
   "cell_type": "markdown",
   "source": [
    "prettyPrint - ladnie formatuje\n",
    "\n",
    "zwykły:"
   ],
   "metadata": {
    "collapsed": false
   }
  },
  {
   "cell_type": "code",
   "source": [
    "people = {'Ford': {'Occupation': 'Researcher', 'Gender': 'Male',\n",
    "'Home Planet': 'Betelgeuse Seven', 'Name': 'Ford Prefect'},\n",
    "'Trillian': {'Occupation': 'Mathematician', 'Gender':\n",
    "'Female', 'Home Planet': 'Earth', 'Name': 'Tricia McMillan'}, 'Robot': {'Occupation': 'Paranoid Android',\n",
    "'Gender': 'Unknown', 'Home Planet': 'Unknown', 'Name':\n",
    "'Marvin'}, 'Arthur': {'Occupation': 'Sandwich-Maker',\n",
    "'Gender': 'Male', 'Home Planet': 'Earth', 'Name': 'Arthur Dent'}}\n",
    "\n",
    "print(people)"
   ],
   "metadata": {
    "collapsed": false,
    "pycharm": {
     "name": "#%%\n"
    }
   },
   "execution_count": 1,
   "outputs": [
    {
     "name": "stdout",
     "output_type": "stream",
     "text": [
      "{'Ford': {'Occupation': 'Researcher', 'Gender': 'Male', 'Home Planet': 'Betelgeuse Seven', 'Name': 'Ford Prefect'}, 'Trillian': {'Occupation': 'Mathematician', 'Gender': 'Female', 'Home Planet': 'Earth', 'Name': 'Tricia McMillan'}, 'Robot': {'Occupation': 'Paranoid Android', 'Gender': 'Unknown', 'Home Planet': 'Unknown', 'Name': 'Marvin'}, 'Arthur': {'Occupation': 'Sandwich-Maker', 'Gender': 'Male', 'Home Planet': 'Earth', 'Name': 'Arthur Dent'}}\n"
     ]
    }
   ]
  },
  {
   "cell_type": "markdown",
   "source": [
    "prettyPrint"
   ],
   "metadata": {
    "collapsed": false
   }
  },
  {
   "cell_type": "code",
   "source": [
    "from pprint import pprint\n",
    "\n",
    "people = {'Ford': {'Occupation': 'Researcher', 'Gender': 'Male',\n",
    "'Home Planet': 'Betelgeuse Seven', 'Name': 'Ford Prefect'},\n",
    "'Trillian': {'Occupation': 'Mathematician', 'Gender':\n",
    "'Female', 'Home Planet': 'Earth', 'Name': 'Tricia McMillan'}, 'Robot': {'Occupation': 'Paranoid Android',\n",
    "'Gender': 'Unknown', 'Home Planet': 'Unknown', 'Name':\n",
    "'Marvin'}, 'Arthur': {'Occupation': 'Sandwich-Maker',\n",
    "'Gender': 'Male', 'Home Planet': 'Earth', 'Name': 'Arthur Dent'}}\n",
    "\n",
    "\n",
    "pprint(people)"
   ],
   "metadata": {
    "collapsed": false,
    "pycharm": {
     "name": "#%%\n"
    }
   },
   "execution_count": 4,
   "outputs": [
    {
     "name": "stdout",
     "output_type": "stream",
     "text": [
      "{'Arthur': {'Gender': 'Male',\n",
      "            'Home Planet': 'Earth',\n",
      "            'Name': 'Arthur Dent',\n",
      "            'Occupation': 'Sandwich-Maker'},\n",
      " 'Ford': {'Gender': 'Male',\n",
      "          'Home Planet': 'Betelgeuse Seven',\n",
      "          'Name': 'Ford Prefect',\n",
      "          'Occupation': 'Researcher'},\n",
      " 'Robot': {'Gender': 'Unknown',\n",
      "           'Home Planet': 'Unknown',\n",
      "           'Name': 'Marvin',\n",
      "           'Occupation': 'Paranoid Android'},\n",
      " 'Trillian': {'Gender': 'Female',\n",
      "              'Home Planet': 'Earth',\n",
      "              'Name': 'Tricia McMillan',\n",
      "              'Occupation': 'Mathematician'}}\n"
     ]
    }
   ]
  }
 ],
 "metadata": {
  "interpreter": {
   "hash": "7d74088e59845348b763f5baf8a8077c3c781361bded6ae723cd9e7747d4612d"
  },
  "kernelspec": {
   "display_name": "Python 3.9.7 64-bit",
   "language": "python",
   "name": "python3"
  },
  "language_info": {
   "codemirror_mode": {
    "name": "ipython",
    "version": 3
   },
   "file_extension": ".py",
   "mimetype": "text/x-python",
   "name": "python",
   "nbconvert_exporter": "python",
   "pygments_lexer": "ipython3",
   "version": "3.9.7"
  },
  "orig_nbformat": 4,
  "pycharm": {
   "stem_cell": {
    "cell_type": "raw",
    "source": [
     "\n",
     "\n",
     "\n",
     "\n"
    ],
    "metadata": {
     "collapsed": false
    }
   }
  }
 },
 "nbformat": 4,
 "nbformat_minor": 2
}