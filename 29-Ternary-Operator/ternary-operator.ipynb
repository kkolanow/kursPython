{
 "cells": [
  {
   "cell_type": "markdown",
   "metadata": {},
   "source": [
    "Python dostarcza nam ternary operator , który jest użyteczny w prostych przypadkach if -else"
   ]
  },
  {
   "cell_type": "code",
   "execution_count": 4,
   "metadata": {},
   "outputs": [
    {
     "name": "stdout",
     "output_type": "stream",
     "text": [
      "{'apples': 10, 'bananas': 1}\n"
     ]
    }
   ],
   "source": [
    "fruits = {}\n",
    "fruits['apples']=10\n",
    "if 'bananas' in fruits:\n",
    "    fruits['bananas']+=1\n",
    "else:\n",
    "    fruits['bananas'] =1\n",
    "print(fruits)\n"
   ]
  },
  {
   "cell_type": "markdown",
   "source": [
    "można to zapisać jako:"
   ],
   "metadata": {
    "collapsed": false
   }
  },
  {
   "cell_type": "code",
   "execution_count": 5,
   "outputs": [
    {
     "name": "stdout",
     "output_type": "stream",
     "text": [
      "{'apples': 10, 'bananas': 2}\n"
     ]
    }
   ],
   "source": [
    "fruits['bananas'] = fruits['bananas']+1 if 'bananas' in fruits else 1\n",
    "print(fruits)\n"
   ],
   "metadata": {
    "collapsed": false,
    "pycharm": {
     "name": "#%%\n"
    }
   }
  }
 ],
 "metadata": {
  "interpreter": {
   "hash": "7d74088e59845348b763f5baf8a8077c3c781361bded6ae723cd9e7747d4612d"
  },
  "kernelspec": {
   "display_name": "Python 3.9.7 64-bit",
   "language": "python",
   "name": "python3"
  },
  "language_info": {
   "codemirror_mode": {
    "name": "ipython",
    "version": 3
   },
   "file_extension": ".py",
   "mimetype": "text/x-python",
   "name": "python",
   "nbconvert_exporter": "python",
   "pygments_lexer": "ipython3",
   "version": "3.9.7"
  },
  "orig_nbformat": 4
 },
 "nbformat": 4,
 "nbformat_minor": 2
}