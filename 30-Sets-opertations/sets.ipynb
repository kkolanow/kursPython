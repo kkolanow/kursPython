{
 "cells": [
  {
   "cell_type": "markdown",
   "metadata": {},
   "source": [
    "set union - łączy 2 sety"
   ]
  },
  {
   "cell_type": "code",
   "execution_count": 1,
   "metadata": {},
   "outputs": [
    {
     "name": "stdout",
     "output_type": "stream",
     "text": [
      "{'o', 'u', 'a', 'y', 'i', 'e'}\n"
     ]
    }
   ],
   "source": [
    "vowels = {'a', 'i', 'e', 'u'}\n",
    "other_vowels = {'y', 'o'}\n",
    "\n",
    "all = vowels.union(other_vowels)\n",
    "print(all)"
   ]
  },
  {
   "cell_type": "markdown",
   "source": [
    "set differ - różnica między setami"
   ],
   "metadata": {
    "collapsed": false
   }
  },
  {
   "cell_type": "code",
   "execution_count": 2,
   "outputs": [
    {
     "name": "stdout",
     "output_type": "stream",
     "text": [
      "{'c', 'b'}\n"
     ]
    }
   ],
   "source": [
    "set1 = {'a', 'b', 'c' ,'d'}\n",
    "set2 = { 'a', 'd' }\n",
    "\n",
    "diff =set1.difference(set2)\n",
    "print(diff)"
   ],
   "metadata": {
    "collapsed": false,
    "pycharm": {
     "name": "#%%\n"
    }
   }
  },
  {
   "cell_type": "markdown",
   "source": [
    "set intersection - wspólna część seta\n"
   ],
   "metadata": {
    "collapsed": false
   }
  },
  {
   "cell_type": "code",
   "source": [
    "set1 = {'a', 'b', 'c' ,'d'}\n",
    "set2 = { 'a', 'd' }\n",
    "\n",
    "diff =set1.intersection(set2)\n",
    "print(diff)"
   ],
   "metadata": {
    "collapsed": false,
    "pycharm": {
     "name": "#%%\n"
    }
   },
   "execution_count": 3,
   "outputs": [
    {
     "name": "stdout",
     "output_type": "stream",
     "text": [
      "{'a', 'd'}\n"
     ]
    }
   ]
  },
  {
   "cell_type": "markdown",
   "source": [
    "gdy chcemy usunąć duplikaty z listy mozna zastosować set\n",
    "w tym przypadku zamieniamy string na set liter i usuwamy\n",
    "duplikat 'i'"
   ],
   "metadata": {
    "collapsed": false,
    "pycharm": {
     "name": "#%% md\n"
    }
   }
  },
  {
   "cell_type": "code",
   "source": [
    "origin = 'origin'\n",
    "print(set(origin))\n",
    "\n"
   ],
   "metadata": {
    "collapsed": false,
    "pycharm": {
     "name": "#%%\n"
    }
   },
   "execution_count": 4,
   "outputs": [
    {
     "name": "stdout",
     "output_type": "stream",
     "text": [
      "{'i', 'g', 'o', 'n', 'r'}\n"
     ]
    }
   ]
  }
 ],
 "metadata": {
  "interpreter": {
   "hash": "7d74088e59845348b763f5baf8a8077c3c781361bded6ae723cd9e7747d4612d"
  },
  "kernelspec": {
   "display_name": "Python 3.9.7 64-bit",
   "language": "python",
   "name": "python3"
  },
  "language_info": {
   "codemirror_mode": {
    "name": "ipython",
    "version": 3
   },
   "file_extension": ".py",
   "mimetype": "text/x-python",
   "name": "python",
   "nbconvert_exporter": "python",
   "pygments_lexer": "ipython3",
   "version": "3.9.7"
  },
  "orig_nbformat": 4
 },
 "nbformat": 4,
 "nbformat_minor": 2
}