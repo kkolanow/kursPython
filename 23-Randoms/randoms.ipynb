{
 "cells": [
  {
   "cell_type": "code",
   "execution_count": 1,
   "metadata": {},
   "outputs": [
    {
     "data": {
      "text/plain": [
       "60"
      ]
     },
     "execution_count": 1,
     "metadata": {},
     "output_type": "execute_result"
    }
   ],
   "source": [
    "import random\n",
    "\n",
    "random.randint(1,60)\n"
   ]
  },
  {
   "cell_type": "markdown",
   "metadata": {},
   "source": [
    "https://docs.python.org/3/library/secrets.html"
   ]
  },
  {
   "cell_type": "markdown",
   "metadata": {},
   "source": [
    "Class secrets.SystemRandom\n",
    "\n",
    "A class for generating secure random numbers using the highest-quality sources provided by the operating system.\n",
    "\n",
    "Using the secrets.SystemRandom class, we can use all the functions of a random module.\n",
    "Before the secrets module, we were using random.SystemRandom class to cryptographically secure random data. The same class is also accessible using the secrets module. Just execute the secrets.SystemRandom(), and it will return the instance of a secure random generator\n",
    "https://pynative.com/python-secrets-module/#Class_secretsSystemRandom"
   ]
  },
  {
   "cell_type": "code",
   "execution_count": 2,
   "metadata": {},
   "outputs": [
    {
     "name": "stdout",
     "output_type": "stream",
     "text": [
      "43\n",
      "32\n",
      "60\n",
      "[24, 12, 54]\n",
      "22.490205526182685\n"
     ]
    }
   ],
   "source": [
    "import secrets\n",
    "\n",
    "# Getting systemRandom class instance out of secrets module\n",
    "secretsGenerator = secrets.SystemRandom()\n",
    "\n",
    "# secure random integer numbers\n",
    "random_number = secretsGenerator.randint(0, 50)\n",
    "print(random_number)\n",
    "# Output 38\n",
    "\n",
    "# secure random integer number within given\n",
    "random_number2 = secretsGenerator.randrange(4, 40, 4)\n",
    "print(random_number2)\n",
    "# Output 32\n",
    "\n",
    "# Secure Random choice using secrets\n",
    "number_list = [6, 12, 18, 24, 30, 36, 42, 48, 54, 60]\n",
    "secure_choice = secretsGenerator.choice(number_list)\n",
    "print(secure_choice)\n",
    "# Output 60\n",
    "\n",
    "# Secure Random sample\n",
    "secure_sample = secretsGenerator.sample(number_list, 3)\n",
    "print(secure_sample)\n",
    "# output [12, 42, 48]\n",
    "\n",
    "# Secure Random float number\n",
    "secure_float = secretsGenerator.uniform(2.5, 25.5)\n",
    "print(secure_float)\n",
    "# Output 18.062235454990407"
   ]
  },
  {
   "cell_type": "markdown",
   "metadata": {},
   "source": []
  },
  {
   "cell_type": "code",
   "execution_count": null,
   "metadata": {},
   "outputs": [],
   "source": []
  },
  {
   "cell_type": "markdown",
   "metadata": {},
   "source": [
    "Write a password generator in Python. Be creative with how you generate passwords - strong passwords have a mix of lowercase letters, uppercase letters, numbers, and symbols. The passwords should be random, generating a new password every time the user asks for a new password. Include your run-time code in a main method.\n",
    "\n",
    "Extra:\n",
    "\n",
    "Ask the user how strong they want their password to be. For weak passwords, pick a word or two from a list."
   ]
  },
  {
   "cell_type": "markdown",
   "metadata": {},
   "source": [
    "Więcej przykładów na https://docs.python.org/3/library/secrets.html"
   ]
  },
  {
   "cell_type": "code",
   "execution_count": 18,
   "metadata": {},
   "outputs": [
    {
     "name": "stdout",
     "output_type": "stream",
     "text": [
      "blHHUibqRxHY\n"
     ]
    }
   ],
   "source": [
    "import string\n",
    "import secrets\n",
    "alphabet = string.ascii_letters + string.digits\n",
    "password = ''.join(secrets.choice(alphabet) for i in range(12))\n",
    "\n",
    "print(password)\n",
    "\n"
   ]
  },
  {
   "cell_type": "code",
   "execution_count": 19,
   "metadata": {},
   "outputs": [
    {
     "name": "stdout",
     "output_type": "stream",
     "text": [
      "https://mydomain.com/reset=cDSG_pyZFeC9aOxWOsOF97VHSolRsWRd16GHUPHUUi0\n"
     ]
    }
   ],
   "source": [
    "import secrets\n",
    "url = 'https://mydomain.com/reset=' + secrets.token_urlsafe()\n",
    "print (url)\n",
    "\n"
   ]
  },
  {
   "cell_type": "code",
   "execution_count": 21,
   "metadata": {},
   "outputs": [
    {
     "data": {
      "text/plain": [
       "'a'"
      ]
     },
     "execution_count": 21,
     "metadata": {},
     "output_type": "execute_result"
    }
   ],
   "source": [
    "import secrets\n",
    "\n",
    "secrets.choice(\"abcd1234\")"
   ]
  }
 ],
 "metadata": {
  "interpreter": {
   "hash": "7d74088e59845348b763f5baf8a8077c3c781361bded6ae723cd9e7747d4612d"
  },
  "kernelspec": {
   "display_name": "Python 3.9.7 64-bit",
   "language": "python",
   "name": "python3"
  },
  "language_info": {
   "codemirror_mode": {
    "name": "ipython",
    "version": 3
   },
   "file_extension": ".py",
   "mimetype": "text/x-python",
   "name": "python",
   "nbconvert_exporter": "python",
   "pygments_lexer": "ipython3",
   "version": "3.9.7"
  },
  "orig_nbformat": 4
 },
 "nbformat": 4,
 "nbformat_minor": 2
}
