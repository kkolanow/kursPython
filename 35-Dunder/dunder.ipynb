{
 "cells": [
  {
   "cell_type": "code",
   "execution_count": null,
   "metadata": {},
   "outputs": [],
   "source": []
  },
  {
   "cell_type": "markdown",
   "metadata": {},
   "source": [
    "py -3 dunder.py\n",
    "\n",
    "vs.\n",
    "\n",
    "$ python3\n",
    "Python 3.5.1 ...\n",
    "Type \"help\", \"copyright\", \"credits\" or \"license\" for more information.\n",
    ">>> import dunder\n",
    "We start off in: dunder"
   ]
  },
  {
   "cell_type": "markdown",
   "metadata": {},
   "source": [
    "Tak bysmy chcieli aby wygladało nasze polaczenie do bazy\n",
    "\n",
    "dbconfig = { 'host': '127.0.0.1',\n",
    "'user': 'vsearch',\n",
    "'password': 'vsearchpasswd',\n",
    "'database': 'vsearchlogDB', }\n",
    "\n",
    "with UseDatabase(dbconfig) as cursor:\n",
    "_SQL = \"\"\"insert into log\n",
    "(phrase, letters, ip, browser_string, results)\n",
    "values\n",
    "(%s, %s, %s, %s, %s)\"\"\"\n",
    "\n",
    "cursor.execute(_SQL, (req.form['phrase'],\n",
    "req.form['letters'],\n",
    "req.remote_addr,\n",
    "req.user_agent.browser,\n",
    "res, ))"
   ]
  },
  {
   "cell_type": "markdown",
   "metadata": {},
   "source": [
    "__main__"
   ]
  },
  {
   "cell_type": "markdown",
   "metadata": {},
   "source": [
    "__init__  - mozna przekazywac do tego \"konstruktora\" defaultowe wartosci \n",
    "\n",
    "def __init__(self, v: int=0, i: int=1) -> None:\n",
    "    self.val = v\n",
    "    self.incr = i\n"
   ]
  },
  {
   "cell_type": "markdown",
   "metadata": {},
   "source": [
    "__repr__ - canonical string representation - takie cos jak toString() w javie\n",
    "def __repr__(self) -> str:"
   ]
  }
 ],
 "metadata": {
  "language_info": {
   "name": "python"
  },
  "orig_nbformat": 4
 },
 "nbformat": 4,
 "nbformat_minor": 2
}
